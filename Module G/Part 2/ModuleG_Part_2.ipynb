{
  "nbformat": 4,
  "nbformat_minor": 0,
  "metadata": {
    "colab": {
      "provenance": [],
      "authorship_tag": "ABX9TyNmui2O8owQvG6thsR7CGVR",
      "include_colab_link": true
    },
    "kernelspec": {
      "name": "python3",
      "display_name": "Python 3"
    },
    "language_info": {
      "name": "python"
    }
  },
  "cells": [
    {
      "cell_type": "markdown",
      "metadata": {
        "id": "view-in-github",
        "colab_type": "text"
      },
      "source": [
        "<a href=\"https://colab.research.google.com/github/EddieOrmseth/MAT-421/blob/main/Project/Part%202/ModuleG_Part_2.ipynb\" target=\"_parent\"><img src=\"https://colab.research.google.com/assets/colab-badge.svg\" alt=\"Open In Colab\"/></a>"
      ]
    },
    {
      "cell_type": "markdown",
      "source": [
        "Simpson's Rule: Simpson's Rule can be used to evaluate definite integrals.\n",
        "\n",
        "For a function f integrated over the interval [a, b] with n sub intervals,\n",
        "  F(x)|(x=a,x=b) = (h/3)(f(a) + 4 * sum(f(xi), i in [1 .. n-1], i is odd) + 2 * sum(f(xi), i in [1 .. n-1], i is even) + f(b))\n",
        "\n",
        "The math here seems a little strange at first, but upon examination it starts to make more sense. Similar to a Riemann Sum, it multiplies the height f(x) by of the rectangle the width, h. However, this adds another factor of 1/3. This is because there are actually 3 values for each rectangle instead of 1. The odd ones have a multiplier of 4 and the even ones have a multiplier of 2, and so the the average comes out to 3. The factor of 1/3 removes this.\n",
        "\n",
        "The larger n is, the more accurate this method gets, similar to the way that other methods work."
      ],
      "metadata": {
        "id": "JefytcNT5C3X"
      }
    },
    {
      "cell_type": "code",
      "execution_count": 1,
      "metadata": {
        "colab": {
          "base_uri": "https://localhost:8080/"
        },
        "id": "lPp46F1a4wsa",
        "outputId": "924bf037-de1c-4675-e51d-227d78384b04"
      },
      "outputs": [
        {
          "output_type": "stream",
          "name": "stdout",
          "text": [
            "Real Result     : 21.333333333333332 \n",
            "\n",
            "N = 10\n",
            "Simpson's Result: 14.421333333333337\n",
            "Accuracy        : 1.479289940828402 \n",
            "\n",
            "N = 100\n",
            "Simpson's Result: 20.496981333333338\n",
            "Accuracy        : 1.0408036669594791 \n",
            "\n",
            "N = 1000\n",
            "Simpson's Result: 21.24817058133332\n",
            "Accuracy        : 1.0040080039678723 \n",
            "\n",
            "N = 10000\n",
            "Simpson's Result: 21.324801706581326\n",
            "Accuracy        : 1.0004000800039972 \n",
            "\n",
            "N = 100000\n",
            "Simpson's Result: 21.332480017066555\n",
            "Accuracy        : 1.0000400008000052 \n",
            "\n",
            "N = 1000000\n",
            "Simpson's Result: 21.333248000170748\n",
            "Accuracy        : 1.0000040000079962 \n",
            "\n"
          ]
        }
      ],
      "source": [
        "\n",
        "\n",
        "def simpsons_rule(f, a, b, n):\n",
        "    h = (b - a) / n\n",
        "    total = f(a) + f(b)\n",
        "\n",
        "    for i in range(1, n - 1):\n",
        "        xi = a + h * i\n",
        "\n",
        "        if i % 2 == 0: # even\n",
        "            total += 2 * f(xi)\n",
        "        else: # odd\n",
        "            total += 4 * f(xi)\n",
        "\n",
        "    return total * h * (1.0 / 3.0)\n",
        "\n",
        "\n",
        "if __name__ == '__main__':\n",
        "\n",
        "    f = lambda x: x ** 2\n",
        "    F = lambda x: (1.0/3.0) * x ** 3\n",
        "\n",
        "    real_integral = F(4) - F(0)\n",
        "    simp_integral_10      = simpsons_rule(f, 0, 4, 10)\n",
        "    simp_integral_100     = simpsons_rule(f, 0, 4, 100)\n",
        "    simp_integral_1000    = simpsons_rule(f, 0, 4, 1000)\n",
        "    simp_integral_10000   = simpsons_rule(f, 0, 4, 10000)\n",
        "    simp_integral_100000  = simpsons_rule(f, 0, 4, 100000)\n",
        "    simp_integral_1000000 = simpsons_rule(f, 0, 4, 1000000)\n",
        "\n",
        "\n",
        "    print(\"Real Result     :\", real_integral, \"\\n\")\n",
        "\n",
        "    print(\"N = 10\")\n",
        "    print(\"Simpson's Result:\", simp_integral_10)\n",
        "    print(\"Accuracy        :\", real_integral / simp_integral_10, \"\\n\")\n",
        "\n",
        "    print(\"N = 100\")\n",
        "    print(\"Simpson's Result:\", simp_integral_100)\n",
        "    print(\"Accuracy        :\", real_integral / simp_integral_100, \"\\n\")\n",
        "\n",
        "    print(\"N = 1000\")\n",
        "    print(\"Simpson's Result:\", simp_integral_1000)\n",
        "    print(\"Accuracy        :\", real_integral / simp_integral_1000, \"\\n\")\n",
        "\n",
        "    print(\"N = 10000\")\n",
        "    print(\"Simpson's Result:\", simp_integral_10000)\n",
        "    print(\"Accuracy        :\", real_integral / simp_integral_10000, \"\\n\")\n",
        "\n",
        "    print(\"N = 100000\")\n",
        "    print(\"Simpson's Result:\", simp_integral_100000)\n",
        "    print(\"Accuracy        :\", real_integral / simp_integral_100000, \"\\n\")\n",
        "\n",
        "    print(\"N = 1000000\")\n",
        "    print(\"Simpson's Result:\", simp_integral_1000000)\n",
        "    print(\"Accuracy        :\", real_integral / simp_integral_1000000, \"\\n\")\n"
      ]
    }
  ]
}