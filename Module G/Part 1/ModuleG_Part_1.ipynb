{
  "nbformat": 4,
  "nbformat_minor": 0,
  "metadata": {
    "colab": {
      "provenance": [],
      "authorship_tag": "ABX9TyNGNfZhPP6URLUJ1/Q+WSYS",
      "include_colab_link": true
    },
    "kernelspec": {
      "name": "python3",
      "display_name": "Python 3"
    },
    "language_info": {
      "name": "python"
    }
  },
  "cells": [
    {
      "cell_type": "markdown",
      "metadata": {
        "id": "view-in-github",
        "colab_type": "text"
      },
      "source": [
        "<a href=\"https://colab.research.google.com/github/EddieOrmseth/MAT-421/blob/main/Module%20G/ModuleG_Part_1.ipynb\" target=\"_parent\"><img src=\"https://colab.research.google.com/assets/colab-badge.svg\" alt=\"Open In Colab\"/></a>"
      ]
    },
    {
      "cell_type": "markdown",
      "source": [
        "Numerical Integration: Numerican integration is the problem of finding the area under the curve of an integral between a and b, without analytically solving for the true integral function. This may be because we don't want to go through the trouble of integrating, it may be because we don't know how, and it could be because the integral does not exist. Whatver the reason, we need a way to evaluate definite integrals without solving for the true integral function."
      ],
      "metadata": {
        "id": "AClOc71gkBQA"
      }
    },
    {
      "cell_type": "markdown",
      "source": [
        "Riemann's Integral: this is the process of evauluating an integral by dividing it into several sub components, which can be thought of as rectangles. The more rectangles we use, the smaller each rectangle is, and the more accurate the resulting value is.\n",
        "\n",
        "There are also multiple methods for choosing what value to use as the height of the rectangle. You can choose the left hand side, the right hand side, or to use the midpoint of the rectangle."
      ],
      "metadata": {
        "id": "5d5ZlyAEkExc"
      }
    },
    {
      "cell_type": "code",
      "execution_count": 1,
      "metadata": {
        "colab": {
          "base_uri": "https://localhost:8080/"
        },
        "id": "uYjieYWpjxnJ",
        "outputId": "8e87f3da-7cd9-4cfe-939b-6af1f0271354"
      },
      "outputs": [
        {
          "output_type": "stream",
          "name": "stdout",
          "text": [
            "n =  6\n",
            "Left Riemann Integral Result: -6.951388888888861     Accuracy: -0.15888888888888825\n",
            "Right Riemann Integral Result: 99.21527777777786     Accuracy: 2.2677777777777797\n",
            "Midpoint Riemann Integral Result: 42.55902777777784     Accuracy: 0.9727777777777793\n",
            "\n",
            "n =  12\n",
            "Left Riemann Integral Result: 17.80381944444447     Accuracy: 0.40694444444444505\n",
            "Right Riemann Integral Result: 70.88715277777779     Accuracy: 1.620277777777778\n",
            "Midpoint Riemann Integral Result: 43.45225694444446     Accuracy: 0.9931944444444447\n",
            "\n",
            "n =  18\n",
            "Left Riemann Integral Result: 26.320216049382722     Accuracy: 0.6016049382716051\n",
            "Right Riemann Integral Result: 61.70910493827164     Accuracy: 1.4104938271604948\n",
            "Midpoint Riemann Integral Result: 43.617669753086446     Accuracy: 0.9969753086419759\n",
            "\n",
            "n =  24\n",
            "Left Riemann Integral Result: 30.628038194444457     Accuracy: 0.7000694444444447\n",
            "Right Riemann Integral Result: 57.16970486111116     Accuracy: 1.3067361111111122\n",
            "Midpoint Riemann Integral Result: 43.67556423611116     Accuracy: 0.9982986111111122\n",
            "\n",
            "n =  100\n",
            "Left Riemann Integral Result: 40.573575000000034     Accuracy: 0.9273960000000008\n",
            "Right Riemann Integral Result: 46.94357500000006     Accuracy: 1.0729960000000014\n",
            "Midpoint Riemann Integral Result: 43.74571250000006     Accuracy: 0.9999020000000014\n",
            "\n"
          ]
        }
      ],
      "source": [
        "from enum import Enum\n",
        "\n",
        "\n",
        "class RiemannIntegralType(Enum):\n",
        "    Left = 1\n",
        "    Right = 2\n",
        "    Midpoint = 3\n",
        "\n",
        "\n",
        "def evalulate_integral(f, a: float, b: float, n: int, integralType: RiemannIntegralType):\n",
        "    step: float = ((b - a) / n)\n",
        "    total: float = 0.0\n",
        "\n",
        "    for i in range(n):\n",
        "        start: float = a + step * i\n",
        "        end: float = start + step\n",
        "        mid: float = (start + end) / 2.0\n",
        "\n",
        "        used_pos = (start if integralType == RiemannIntegralType.Left else (end if integralType == RiemannIntegralType.Right else mid))\n",
        "        total += step * f(used_pos)\n",
        "\n",
        "    return total\n",
        "\n",
        "\n",
        "if __name__ == '__main__':\n",
        "\n",
        "    f = lambda x: (x-3)**3\n",
        "    f_int = lambda x: (x-3)**4 * (1.0 / 4.0)\n",
        "\n",
        "    a = 0\n",
        "    b = 7\n",
        "    n_list = [6, 12, 18, 24, 100]\n",
        "\n",
        "    exact = f_int(b) - f_int(a)\n",
        "\n",
        "    for n in n_list:\n",
        "        print(\"n = \", n)\n",
        "        for intType in RiemannIntegralType:\n",
        "            result: float = evalulate_integral(f, a, b, n, intType)\n",
        "            print(intType.name, \"Riemann Integral Result:\", result, \"    Accuracy:\", result / exact)\n",
        "        print()"
      ]
    },
    {
      "cell_type": "markdown",
      "source": [
        "Trapezoid Rule: This method uses a trapezoid to estimate the area in a particular subdivision of a Riemann sub. This is typically more accurate than a mid point, as it does a better job of matching the slope of the function. Especially at high values of n, the trapezoid rule can be very accurate."
      ],
      "metadata": {
        "id": "bkkZd4rikJEL"
      }
    },
    {
      "cell_type": "code",
      "source": [
        "\n",
        "\n",
        "def evalulate_trap_integral(f, a: float, b: float, n: int):\n",
        "    step: float = ((b - a) / n)\n",
        "    total: float = 0.0\n",
        "\n",
        "    for i in range(n):\n",
        "        start: float = a + step * i\n",
        "        end: float = start + step\n",
        "\n",
        "        total += step * ((f(start) + f(end)) / 2.0)\n",
        "\n",
        "    return total\n",
        "\n",
        "\n",
        "if __name__ == '__main__':\n",
        "\n",
        "    f = lambda x: (x-3)**3\n",
        "    f_int = lambda x: (x-3)**4 * (1.0 / 4.0)\n",
        "\n",
        "    a = 0\n",
        "    b = 7\n",
        "    n_list = [6, 12, 18, 24, 100]\n",
        "\n",
        "    exact = f_int(b) - f_int(a)\n",
        "\n",
        "    for n in n_list:\n",
        "        print(\"n = \", n)\n",
        "        result: float = evalulate_trap_integral(f, a, b, n)\n",
        "        print(\"Trapzoid Riemann Integral Result:\", result, \"    Accuracy:\", result / exact)\n",
        "        print()\n"
      ],
      "metadata": {
        "colab": {
          "base_uri": "https://localhost:8080/"
        },
        "id": "i2Dl-ddMkJUO",
        "outputId": "1dba97b6-55b2-429b-a117-69cf369f24de"
      },
      "execution_count": 2,
      "outputs": [
        {
          "output_type": "stream",
          "name": "stdout",
          "text": [
            "n =  6\n",
            "Trapzoid Riemann Integral Result: 46.131944444444485     Accuracy: 1.0544444444444454\n",
            "\n",
            "n =  12\n",
            "Trapzoid Riemann Integral Result: 44.34548611111113     Accuracy: 1.0136111111111115\n",
            "\n",
            "n =  18\n",
            "Trapzoid Riemann Integral Result: 44.01466049382718     Accuracy: 1.0060493827160497\n",
            "\n",
            "n =  24\n",
            "Trapzoid Riemann Integral Result: 43.898871527777814     Accuracy: 1.0034027777777785\n",
            "\n",
            "n =  100\n",
            "Trapzoid Riemann Integral Result: 43.75857500000004     Accuracy: 1.000196000000001\n",
            "\n"
          ]
        }
      ]
    }
  ]
}