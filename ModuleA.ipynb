{
  "nbformat": 4,
  "nbformat_minor": 0,
  "metadata": {
    "colab": {
      "provenance": [],
      "authorship_tag": "ABX9TyPjBFFIWzzfFuKtf/RAUKsQ",
      "include_colab_link": true
    },
    "kernelspec": {
      "name": "python3",
      "display_name": "Python 3"
    },
    "language_info": {
      "name": "python"
    }
  },
  "cells": [
    {
      "cell_type": "markdown",
      "metadata": {
        "id": "view-in-github",
        "colab_type": "text"
      },
      "source": [
        "<a href=\"https://colab.research.google.com/github/EddieOrmseth/MAT-421/blob/main/ModuleA.ipynb\" target=\"_parent\"><img src=\"https://colab.research.google.com/assets/colab-badge.svg\" alt=\"Open In Colab\"/></a>"
      ]
    },
    {
      "cell_type": "markdown",
      "source": [
        "**Binary** is the second most simplistic number system, beat out only by hash marks (base 1). It is not efficient, numbers will take up more digits because each digit only has two options, but it integrates exceedingly well with computers due to their digital structure. It also makes the creation of adding and multiplication circuits much easier. A final advantage is that division and multiplication by 2 happen very fast as they are just a shift of the bits in the number."
      ],
      "metadata": {
        "id": "lsNfbTQPBhIp"
      }
    },
    {
      "cell_type": "markdown",
      "source": [
        "Converting a base N number to a base M number demonstrates all the necessary concepts of base N, especially place value. The algorithm is shown and explained below, but the main idea is to first convert to base 10 by exponentiating the base N and multiplying by the digit. Then, convert this base 10 number to base M through prepending the remaineder of the base 10 / base M."
      ],
      "metadata": {
        "id": "IcMVrgxA9qTa"
      }
    },
    {
      "cell_type": "code",
      "execution_count": 2,
      "metadata": {
        "id": "ThfFds701muF",
        "colab": {
          "base_uri": "https://localhost:8080/"
        },
        "outputId": "d9fe3941-f17f-4b8e-dd1b-917769138400"
      },
      "outputs": [
        {
          "output_type": "stream",
          "name": "stdout",
          "text": [
            "Test Number M: 27\n",
            "Test Passed: True\n",
            "Test Number N: 11011\n",
            "Test Passed: True\n",
            "Test Number M: 101\n",
            "Test Passed: True\n",
            "Test Number N: 2102\n",
            "Test Passed: True\n"
          ]
        }
      ],
      "source": [
        "\n",
        "# bases and numbers must be integers, base_1 and base_m are in decimal, number_1 and number_2 must be written from most significant digit to least significant digit\n",
        "def convertBaseNToBaseM(base_n: int, number_n: str, base_m: int) -> str:\n",
        "  decimal: int = 0\n",
        "  for i in range(0, len(number_n)): # convert number_n from base_n to base_10\n",
        "    digit: int = int(number_n[len(number_n) - (i + 1)]) # grab the next digit\n",
        "    decimal += digit * base_n**i # add it with the proper place value\n",
        "\n",
        "  number_m: str = \"\"\n",
        "  while decimal > 0: # convert decimal from base_10 to base_m\n",
        "    remainder: int = decimal % base_m # grab the remainder\n",
        "    decimal = int(decimal / base_m) # remove that place value\n",
        "    number_m = str(remainder) + number_m # add the digit to the base_m number\n",
        "\n",
        "  return number_m\n",
        "\n",
        "\n",
        "# test 1\n",
        "t1_base_n: int = 2 # binary\n",
        "t1_number_n: str = \"11011\" # 27\n",
        "t1_base_m: int = 10 # decimal\n",
        "t1_number_m: str = \"27\" # 27\n",
        "\n",
        "test_t1_number_m: str = convertBaseNToBaseM(t1_base_n, t1_number_n, t1_base_m)\n",
        "print(\"Test Number M: \" + test_t1_number_m)\n",
        "print(\"Test Passed: \" + str(t1_number_m == test_t1_number_m))\n",
        "\n",
        "test_t1_number_n: str = convertBaseNToBaseM(t1_base_m, t1_number_m, t1_base_n)\n",
        "print(\"Test Number N: \" + test_t1_number_n)\n",
        "print(\"Test Passed: \" + str(t1_number_n == test_t1_number_n))\n",
        "\n",
        "\n",
        "# test 2\n",
        "t2_base_n: int = 3 # ternary\n",
        "t2_number_n: str = \"2102\" # 65\n",
        "t2_base_m: int = 8 # octal\n",
        "t2_number_m: str = \"101\" # 65\n",
        "\n",
        "test_t2_number_m: str = convertBaseNToBaseM(t2_base_n, t2_number_n, t2_base_m)\n",
        "print(\"Test Number M: \" + test_t2_number_m)\n",
        "print(\"Test Passed: \" + str(t2_number_m == test_t2_number_m))\n",
        "\n",
        "test_t2_number_n: str = convertBaseNToBaseM(t2_base_m, t2_number_m, t2_base_n)\n",
        "print(\"Test Number N: \" + test_t2_number_n)\n",
        "print(\"Test Passed: \" + str(t2_number_n == test_t2_number_n))\n"
      ]
    },
    {
      "cell_type": "markdown",
      "source": [
        "**Floating Point** numbers are also incredible important to computers. They allow us to store numbers with decimals in a much better way than we would if we tried to accomplish it using the same paradigm that integers do.\n",
        "\n",
        "Consider this: a 32 bit or 64 bit number has a ton of possible configurations.\n",
        "A 32 bit number can store up to 2^32 different values, for integers, this would be a range of [0, 4294967295] or [0, 18446744073709551615] for 64 bit numbers.\n",
        "\n",
        "But what if we used the bits in a different structure?\n",
        "Enter Floating Point Numbers.\n",
        "In an n-bit floating point number, 1 bit is reserved for the sign, a bits are reserved for the mantissa, and n - (a + 1) bits are used for the exponent.\n",
        "\n",
        "The numberical value is then calculated by (-1 ^ sign-bit) * mantissa ^ exponent."
      ],
      "metadata": {
        "id": "ox6iEyaE9nfD"
      }
    }
  ]
}