{
  "nbformat": 4,
  "nbformat_minor": 0,
  "metadata": {
    "colab": {
      "provenance": [],
      "authorship_tag": "ABX9TyMaCd5Ix05kpmbWoyYme+Ld",
      "include_colab_link": true
    },
    "kernelspec": {
      "name": "python3",
      "display_name": "Python 3"
    },
    "language_info": {
      "name": "python"
    }
  },
  "cells": [
    {
      "cell_type": "markdown",
      "metadata": {
        "id": "view-in-github",
        "colab_type": "text"
      },
      "source": [
        "<a href=\"https://colab.research.google.com/github/EddieOrmseth/MAT-421/blob/main/ModuleA.ipynb\" target=\"_parent\"><img src=\"https://colab.research.google.com/assets/colab-badge.svg\" alt=\"Open In Colab\"/></a>"
      ]
    },
    {
      "cell_type": "markdown",
      "source": [
        "**Binary** is the second most simplistic number system, beat out only by hash marks (base 1). It is not efficient, numbers will take up more digits because each digit only has two options, but it integrates exceedingly well with computers due to their digital structure. It also makes the creation of adding and multiplication circuits much easier. A final advantage is that division and multiplication by 2 happen very fast as they are just a shift of the bits in the number."
      ],
      "metadata": {
        "id": "lsNfbTQPBhIp"
      }
    },
    {
      "cell_type": "markdown",
      "source": [
        "Converting a base N number to a base M number demonstrates all the necessary concepts of base N, especially place value. The algorithm is shown and explained below, but the main idea is to first convert to base 10 by exponentiating the base N and multiplying by the digit. Then, convert this base 10 number to base M through prepending the remaineder of the base 10 / base M."
      ],
      "metadata": {
        "id": "IcMVrgxA9qTa"
      }
    },
    {
      "cell_type": "code",
      "execution_count": 6,
      "metadata": {
        "id": "ThfFds701muF",
        "colab": {
          "base_uri": "https://localhost:8080/"
        },
        "outputId": "cbf57709-14cf-4de9-d4ff-31b118fcfd3a"
      },
      "outputs": [
        {
          "output_type": "stream",
          "name": "stdout",
          "text": [
            "Test Number M: 27\n",
            "Test Passed: True\n",
            "\n",
            "Test Number N: 11011\n",
            "Test Passed: True\n",
            "\n",
            "\n",
            "Test Number M: 101\n",
            "Test Passed: True\n",
            "\n",
            "Test Number N: 2102\n",
            "Test Passed: True\n"
          ]
        }
      ],
      "source": [
        "\n",
        "# bases and numbers must be integers, base_1 and base_m are in decimal, number_1 and number_2 must be written from most significant digit to least significant digit\n",
        "def convertBaseNToBaseM(base_n: int, number_n: str, base_m: int) -> str:\n",
        "  decimal: int = 0\n",
        "  for i in range(0, len(number_n)): # convert number_n from base_n to base_10\n",
        "    digit: int = int(number_n[len(number_n) - (i + 1)]) # grab the next digit\n",
        "    decimal += digit * base_n**i # add it with the proper place value\n",
        "\n",
        "  number_m: str = \"\"\n",
        "  while decimal > 0: # convert decimal from base_10 to base_m\n",
        "    remainder: int = decimal % base_m # grab the remainder\n",
        "    decimal = int(decimal / base_m) # remove that place value\n",
        "    number_m = str(remainder) + number_m # add the digit to the base_m number\n",
        "\n",
        "  return number_m\n",
        "\n",
        "\n",
        "# test 1\n",
        "t1_base_n: int = 2 # binary\n",
        "t1_number_n: str = \"11011\" # 27\n",
        "t1_base_m: int = 10 # decimal\n",
        "t1_number_m: str = \"27\" # 27\n",
        "\n",
        "test_t1_number_m: str = convertBaseNToBaseM(t1_base_n, t1_number_n, t1_base_m)\n",
        "print(\"Test Number M: \" + test_t1_number_m)\n",
        "print(\"Test Passed: \" + str(t1_number_m == test_t1_number_m))\n",
        "\n",
        "test_t1_number_n: str = convertBaseNToBaseM(t1_base_m, t1_number_m, t1_base_n)\n",
        "print(\"\\nTest Number N: \" + test_t1_number_n)\n",
        "print(\"Test Passed: \" + str(t1_number_n == test_t1_number_n))\n",
        "\n",
        "\n",
        "# test 2\n",
        "t2_base_n: int = 3 # ternary\n",
        "t2_number_n: str = \"2102\" # 65\n",
        "t2_base_m: int = 8 # octal\n",
        "t2_number_m: str = \"101\" # 65\n",
        "\n",
        "test_t2_number_m: str = convertBaseNToBaseM(t2_base_n, t2_number_n, t2_base_m)\n",
        "print(\"\\n\\nTest Number M: \" + test_t2_number_m)\n",
        "print(\"Test Passed: \" + str(t2_number_m == test_t2_number_m))\n",
        "\n",
        "test_t2_number_n: str = convertBaseNToBaseM(t2_base_m, t2_number_m, t2_base_n)\n",
        "print(\"\\nTest Number N: \" + test_t2_number_n)\n",
        "print(\"Test Passed: \" + str(t2_number_n == test_t2_number_n))\n"
      ]
    },
    {
      "cell_type": "markdown",
      "source": [
        "**Floating Point** numbers are also incredible important to computers. They allow us to store numbers with decimals in a much better way than we would if we tried to accomplish it using the same paradigm that integers do.\n",
        "\n",
        "Consider this: a 32 bit or 64 bit number has a ton of possible configurations.\n",
        "A 32 bit number can store up to 2^32 different values, for integers, this would be a range of [0, 4294967295] or [0, 18446744073709551615] for 64 bit numbers.\n",
        "\n",
        "But what if we used the bits in a different structure?\n",
        "Enter Floating Point Numbers.\n",
        "In an n-bit floating point number, 1 bit is reserved for the sign, a bits are reserved for the mantissa, and n - (a + 1) bits are used for the exponent.\n",
        "\n",
        "The mantissa is a fractional number, customarily less than 1\n",
        "\n",
        "The numberical value is then calculated by (-1 ^ sign-bit) * mantissa ^ exponent.\n",
        "\n",
        "In a typical 32 bit number 1 bit is for the sign, 8 bits are for the exponent, and 23 bits make up the manitssa.\n",
        "\n",
        "In a typical 64 bit number 1 bit is for the sign, 11 bits are for the exponent, and 52 bits make up the manitssa.\n",
        "\n",
        "Even with this structure, not every number can be represented as there are only a certain number of unique bit patterns available. And, there are gaps between the numbers. With only a certain number of bits for the manitssa and exponent we cannot represent many numbers exactly, we can only get very very close. And the larger the number we want to represent is, the larger our error is. This is because the exponent increases, and so any error in the mantissa is propagated more and more."
      ],
      "metadata": {
        "id": "ox6iEyaE9nfD"
      }
    },
    {
      "cell_type": "code",
      "source": [
        "\n",
        "num_int: int = 12 * 32 * 47 * 39 * 32 * 23 * 234 * 23974 * 2354 * 945 # create a big number\n",
        "num_float: float = float(num_int) # convert that number to float\n",
        "\n",
        "print(num_int)\n",
        "print(num_float)\n",
        "print(\"Numbers are equal: \" + str(num_float == num_int)) # compare the numbers\n",
        "\n",
        "print()\n",
        "num: int = 1\n",
        "for i in range(0, 50):\n",
        "    num_int = int(num) # convert to int\n",
        "    num_float = float(num) # convert to float\n",
        "    if (num_int != num_float): # if they aren't equal\n",
        "        print(str(num_int) + \" != \" + \"{:0.10f}\".format(num_float)) # print out the numbers\n",
        "    num *= 10 # check the next one\n"
      ],
      "metadata": {
        "colab": {
          "base_uri": "https://localhost:8080/"
        },
        "id": "dt3lpaJeHt_w",
        "outputId": "07f8c4d9-cffb-4e7d-d0f8-686f27c3b6ca"
      },
      "execution_count": 7,
      "outputs": [
        {
          "output_type": "stream",
          "name": "stdout",
          "text": [
            "6464964271251914588160\n",
            "6.464964271251915e+21\n",
            "Numbers are equal: False\n",
            "\n",
            "100000000000000000000000 != 99999999999999991611392.0000000000\n",
            "1000000000000000000000000 != 999999999999999983222784.0000000000\n",
            "10000000000000000000000000 != 10000000000000000905969664.0000000000\n",
            "100000000000000000000000000 != 100000000000000004764729344.0000000000\n",
            "1000000000000000000000000000 != 1000000000000000013287555072.0000000000\n",
            "10000000000000000000000000000 != 9999999999999999583119736832.0000000000\n",
            "100000000000000000000000000000 != 99999999999999991433150857216.0000000000\n",
            "1000000000000000000000000000000 != 1000000000000000019884624838656.0000000000\n",
            "10000000000000000000000000000000 != 9999999999999999635896294965248.0000000000\n",
            "100000000000000000000000000000000 != 100000000000000005366162204393472.0000000000\n",
            "1000000000000000000000000000000000 != 999999999999999945575230987042816.0000000000\n",
            "10000000000000000000000000000000000 != 9999999999999999455752309870428160.0000000000\n",
            "100000000000000000000000000000000000 != 99999999999999996863366107917975552.0000000000\n",
            "1000000000000000000000000000000000000 != 1000000000000000042420637374017961984.0000000000\n",
            "10000000000000000000000000000000000000 != 9999999999999999538762658202121142272.0000000000\n",
            "100000000000000000000000000000000000000 != 99999999999999997748809823456034029568.0000000000\n",
            "1000000000000000000000000000000000000000 != 999999999999999939709166371603178586112.0000000000\n",
            "10000000000000000000000000000000000000000 != 10000000000000000303786028427003666890752.0000000000\n",
            "100000000000000000000000000000000000000000 != 100000000000000000620008645040778319495168.0000000000\n",
            "1000000000000000000000000000000000000000000 != 1000000000000000044885712678075916785549312.0000000000\n",
            "10000000000000000000000000000000000000000000 != 10000000000000000139372116959414099130712064.0000000000\n",
            "100000000000000000000000000000000000000000000 != 100000000000000008821361405306422640701865984.0000000000\n",
            "1000000000000000000000000000000000000000000000 != 999999999999999929757289024535551219930759168.0000000000\n",
            "10000000000000000000000000000000000000000000000 != 9999999999999999931398190359470212947659194368.0000000000\n",
            "100000000000000000000000000000000000000000000000 != 100000000000000004384584304507619735463404765184.0000000000\n",
            "1000000000000000000000000000000000000000000000000 != 1000000000000000043845843045076197354634047651840.0000000000\n",
            "10000000000000000000000000000000000000000000000000 != 9999999999999999464902769475481793196872414789632.0000000000\n"
          ]
        }
      ]
    },
    {
      "cell_type": "markdown",
      "source": [
        "**Round-Off Error** is something that happens because floating points numbers are often not an exact representation of the number.\n",
        "\n",
        "We may input a number exactly but it will not be represented eaxctly. This is one source of erorr.\n",
        "\n",
        "Some numbers simply cannot be represented exactly, such as irrational numbers or numbers with an infinitely long decimal representation. (numbers such as: pi, e, 1/3, sqrt(2))\n",
        "\n",
        "The result of computation may also not be quite correct, the operation (1 / 3) * 3 will result in the number .9999999999999999999999999999, and not 1 like we would think.\n",
        "\n",
        "However, some operations need to be done many times to allow the error to accumulate. Or, one can use larger numbers to increase the error.\n"
      ],
      "metadata": {
        "id": "q4bx8TGCK05e"
      }
    },
    {
      "cell_type": "code",
      "source": [
        "\n",
        "one_third: float = 1.0 / 3.0\n",
        "print(\"One Third: \" + \"{:0.20f}\".format(one_third))\n",
        "one: float = one_third * 3.0\n",
        "print(\"Result: \" + \"{:0.20f}\".format(one))\n",
        "print(\"Is One: \" + str(one == 1))\n",
        "\n",
        "\n",
        "one_small: float = 1.0 / 53982894593057\n",
        "print(\"\\nOne / Large: \" + \"{:0.20f}\".format(one_third))\n",
        "one: float = one_small * 53982894593057\n",
        "print(\"Result: \" + \"{:0.20f}\".format(one))\n",
        "print(\"Is One: \" + str(one == 1))\n",
        "\n",
        "\n",
        "for i in range(200):\n",
        "    one += one_third\n",
        "for i in range(200):\n",
        "    one -= one_third\n",
        "\n",
        "print(\"\\nResult:\" + \"{:0.20f}\".format(one))\n",
        "print(\"Is One: \" + str(one == 1))\n"
      ],
      "metadata": {
        "colab": {
          "base_uri": "https://localhost:8080/"
        },
        "id": "UotvaFV8NcOC",
        "outputId": "f9b8e2a6-049b-424f-e7e4-0aefd5fe151e"
      },
      "execution_count": 5,
      "outputs": [
        {
          "output_type": "stream",
          "name": "stdout",
          "text": [
            "One Third: 0.33333333333333331483\n",
            "Result: 1.00000000000000000000\n",
            "Is One: True\n",
            "\n",
            "One / Large: 0.33333333333333331483\n",
            "Result: 0.99999999999999988898\n",
            "Is One: False\n",
            "\n",
            "Result:0.99999999999999289457\n",
            "Is One: False\n"
          ]
        }
      ]
    }
  ]
}