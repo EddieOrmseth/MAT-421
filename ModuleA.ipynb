{
  "nbformat": 4,
  "nbformat_minor": 0,
  "metadata": {
    "colab": {
      "provenance": [],
      "authorship_tag": "ABX9TyPKIDca1lcKC5e+bJ8egrJQ",
      "include_colab_link": true
    },
    "kernelspec": {
      "name": "python3",
      "display_name": "Python 3"
    },
    "language_info": {
      "name": "python"
    }
  },
  "cells": [
    {
      "cell_type": "markdown",
      "metadata": {
        "id": "view-in-github",
        "colab_type": "text"
      },
      "source": [
        "<a href=\"https://colab.research.google.com/github/EddieOrmseth/MAT-421/blob/main/ModuleA.ipynb\" target=\"_parent\"><img src=\"https://colab.research.google.com/assets/colab-badge.svg\" alt=\"Open In Colab\"/></a>"
      ]
    },
    {
      "cell_type": "code",
      "execution_count": 1,
      "metadata": {
        "id": "ThfFds701muF",
        "colab": {
          "base_uri": "https://localhost:8080/",
          "height": 211
        },
        "outputId": "1a03ec31-27f0-4b17-f513-0f17739d88ca"
      },
      "outputs": [
        {
          "output_type": "error",
          "ename": "NameError",
          "evalue": "name 't2_base_m' is not defined",
          "traceback": [
            "\u001b[0;31m---------------------------------------------------------------------------\u001b[0m",
            "\u001b[0;31mNameError\u001b[0m                                 Traceback (most recent call last)",
            "\u001b[0;32m<ipython-input-1-fb821b144028>\u001b[0m in \u001b[0;36m<cell line: 0>\u001b[0;34m()\u001b[0m\n\u001b[1;32m     19\u001b[0m \u001b[0mt1_number_n\u001b[0m \u001b[0;34m=\u001b[0m \u001b[0;34m\"00011011\"\u001b[0m \u001b[0;31m# 27\u001b[0m\u001b[0;34m\u001b[0m\u001b[0;34m\u001b[0m\u001b[0m\n\u001b[1;32m     20\u001b[0m \u001b[0mt1_base_m\u001b[0m \u001b[0;34m=\u001b[0m \u001b[0;36m10\u001b[0m\u001b[0;34m\u001b[0m\u001b[0;34m\u001b[0m\u001b[0m\n\u001b[0;32m---> 21\u001b[0;31m \u001b[0mprint\u001b[0m\u001b[0;34m(\u001b[0m\u001b[0;34m\"27\"\u001b[0m \u001b[0;34m==\u001b[0m \u001b[0mconvertBaseNToBaseM\u001b[0m\u001b[0;34m(\u001b[0m\u001b[0mt1_base_n\u001b[0m\u001b[0;34m,\u001b[0m \u001b[0mt1_number_n\u001b[0m\u001b[0;34m,\u001b[0m \u001b[0mt2_base_m\u001b[0m\u001b[0;34m)\u001b[0m\u001b[0;34m)\u001b[0m\u001b[0;34m\u001b[0m\u001b[0;34m\u001b[0m\u001b[0m\n\u001b[0m\u001b[1;32m     22\u001b[0m \u001b[0;34m\u001b[0m\u001b[0m\n\u001b[1;32m     23\u001b[0m \u001b[0;34m\u001b[0m\u001b[0m\n",
            "\u001b[0;31mNameError\u001b[0m: name 't2_base_m' is not defined"
          ]
        }
      ],
      "source": [
        "\n",
        "# bases and numbers must be integers, base_1 and base_m are in decimal, number_1 and number_2 must be written from most significant digit to least significant digit\n",
        "def convertBaseNToBaseM(base_n: int, number_n: str, base_m: int) -> str:\n",
        "  decimal: int = 0\n",
        "  for i in range(0, len(number_n)): # convert number_n from base_n to base_10\n",
        "    digit: int = int(number_n[len(number_n) - (i + 1)]) # grab the next digit\n",
        "    decimal += digit * base_n**i # add it with the proper place value\n",
        "\n",
        "  number_m: str = \"\"\n",
        "  while decimal > 0: # convert decimal from base_10 to base_m\n",
        "    remainder: int = decimal % base_m\n",
        "    decimal /= base_m\n",
        "    number_m += str(remainder)\n",
        "\n",
        "  return number_m\n",
        "\n",
        "\n",
        "# test number 1\n",
        "t1_base_n = 2 # binary\n",
        "t1_number_n = \"00011011\" # 27\n",
        "t1_base_m = 10\n",
        "print(\"27\" == convertBaseNToBaseM(t1_base_n, t1_number_n, t1_base_m))\n",
        "\n",
        "\n"
      ]
    }
  ]
}