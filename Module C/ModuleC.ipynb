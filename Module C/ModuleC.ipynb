{
  "nbformat": 4,
  "nbformat_minor": 0,
  "metadata": {
    "colab": {
      "provenance": [],
      "authorship_tag": "ABX9TyNaLaJlSECRA4V3hA6Bq6Zq",
      "include_colab_link": true
    },
    "kernelspec": {
      "name": "python3",
      "display_name": "Python 3"
    },
    "language_info": {
      "name": "python"
    }
  },
  "cells": [
    {
      "cell_type": "markdown",
      "metadata": {
        "id": "view-in-github",
        "colab_type": "text"
      },
      "source": [
        "<a href=\"https://colab.research.google.com/github/EddieOrmseth/MAT-421/blob/main/Module%20C/ModuleC.ipynb\" target=\"_parent\"><img src=\"https://colab.research.google.com/assets/colab-badge.svg\" alt=\"Open In Colab\"/></a>"
      ]
    },
    {
      "cell_type": "markdown",
      "source": [
        "Root Finding Problem:"
      ],
      "metadata": {
        "id": "-3tiDcyGrA1z"
      }
    },
    {
      "cell_type": "markdown",
      "source": [
        "Tolerance:"
      ],
      "metadata": {
        "id": "MlCE5G6FrF0Y"
      }
    },
    {
      "cell_type": "markdown",
      "source": [
        "Bisection Method:"
      ],
      "metadata": {
        "id": "ncDd0X7grHOe"
      }
    },
    {
      "cell_type": "code",
      "execution_count": null,
      "metadata": {
        "id": "bbdeHOZIq6kr"
      },
      "outputs": [],
      "source": []
    },
    {
      "cell_type": "markdown",
      "source": [
        "Newton Raphson Method:"
      ],
      "metadata": {
        "id": "vDdnhy_CrFSY"
      }
    },
    {
      "cell_type": "code",
      "source": [],
      "metadata": {
        "id": "QnDkckYirL8u"
      },
      "execution_count": null,
      "outputs": []
    }
  ]
}