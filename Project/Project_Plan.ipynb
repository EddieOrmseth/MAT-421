{
  "nbformat": 4,
  "nbformat_minor": 0,
  "metadata": {
    "colab": {
      "provenance": [],
      "authorship_tag": "ABX9TyMUYtBuQUm1Iq6G3LTW+u9B",
      "include_colab_link": true
    },
    "kernelspec": {
      "name": "python3",
      "display_name": "Python 3"
    },
    "language_info": {
      "name": "python"
    }
  },
  "cells": [
    {
      "cell_type": "markdown",
      "metadata": {
        "id": "view-in-github",
        "colab_type": "text"
      },
      "source": [
        "<a href=\"https://colab.research.google.com/github/EddieOrmseth/MAT-421/blob/main/Project/Project_Plan.ipynb\" target=\"_parent\"><img src=\"https://colab.research.google.com/assets/colab-badge.svg\" alt=\"Open In Colab\"/></a>"
      ]
    },
    {
      "cell_type": "markdown",
      "source": [
        "1. Problem Introduction:\n",
        "My problem will be to fill in missing position and velocity data of sport objects. The use-case I will focus most on will be a soccer ball travelling on a soccer field, however these methods could be used to capture other data such as tennis balls, basketballs, American football footballs, rugby balls, golf balls, this has applications to all sorts of sport.\n",
        "\n",
        "2. Related work:\n",
        "\n",
        "\n",
        "3. Proposed methodology / models: I will explore different methods of interpolation to fill in these gaps, including spline interpolation, Bezier interpolation, newton interpolation, and lagrange interpolation. As I delve into this project and test different models, I may add more types of interpolation that already exist or come up with my own ideas.\n",
        "\n",
        "4. Experiment setups:\n",
        "\n",
        "\n",
        "5. Expected results:\n",
        "\n",
        "6. Team Members: Eddie Ormseth. I will be working alone, and so I will also be doing all of the work myself. GitHub will be used to hold all code, and Git will be used for version control.\n",
        "\n",
        "The primary language to be used will be Python because of the advent of so many Python data science tools.\n",
        "\n",
        "Many datasets will be explored depeneding on needs as the project moves forwards. The ones initially explored will be:\n",
        "    a. nikhilgrad/Tennis-Ball-Tracker\n",
        "    b. TrackNet Dataset\n",
        "    c. SoccerNet\n",
        "    d. NBA SportVU Dataset\n",
        "    e. Football Player Tracking Dataset\n",
        "\n",
        "\n"
      ],
      "metadata": {
        "id": "yzrTFwMwme3W"
      }
    },
    {
      "cell_type": "code",
      "source": [],
      "metadata": {
        "id": "UdPj4f2uqv-2"
      },
      "execution_count": null,
      "outputs": []
    }
  ]
}