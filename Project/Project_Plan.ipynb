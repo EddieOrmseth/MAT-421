{
  "nbformat": 4,
  "nbformat_minor": 0,
  "metadata": {
    "colab": {
      "provenance": [],
      "authorship_tag": "ABX9TyNZg4p5TuzvQrb6yCxD7kbO",
      "include_colab_link": true
    },
    "kernelspec": {
      "name": "python3",
      "display_name": "Python 3"
    },
    "language_info": {
      "name": "python"
    }
  },
  "cells": [
    {
      "cell_type": "markdown",
      "metadata": {
        "id": "view-in-github",
        "colab_type": "text"
      },
      "source": [
        "<a href=\"https://colab.research.google.com/github/EddieOrmseth/MAT-421/blob/main/Project/Project_Plan.ipynb\" target=\"_parent\"><img src=\"https://colab.research.google.com/assets/colab-badge.svg\" alt=\"Open In Colab\"/></a>"
      ]
    },
    {
      "cell_type": "markdown",
      "source": [
        "1. Problem Introduction:\n",
        "\n",
        "My problem will be to fill in missing position and velocity data of sport objects. The use-case I will focus most on will be a soccer ball travelling on a soccer field, however these methods could be used to capture other data such as tennis balls, basketballs, American football footballs, rugby balls, golf balls, this has applications to all sorts of sport.\n",
        "\n",
        "\n",
        "2. Related work:\n",
        "\n",
        "There has been significant amounts of work done in this area, however almost all of it has been designed to take images, or a series of images, and output the location of the ball. They were not designed to take a stream of this location data and fill in any missing values. While detection using images is obviously  very useful, it has its limitations. What happens when the ball is obscured? Maybe other frames can provide context but aside from that, there is not much to be done. Also consider other types of sensor data. Stadius are full of wireless devices that people bring in, and are therefore seas of electromagnetic radiation. What happens if some sensor data is interfered with? What happens if it cuts out completely? What happens if the systems that track soccer balls falter momentarily?\n",
        "\n",
        "This code will be able to fill in those values and ensure a smooth and continuous path.\n",
        "\n",
        "\n",
        "3. Proposed methodology / models:\n",
        "\n",
        "I will explore different methods of interpolation to fill in these gaps, including spline interpolation, Bezier interpolation, newton interpolation, and lagrange interpolation. As I delve into this project and test different models, I may add more types of interpolation that already exist or come up with my own ideas.\n",
        "\n",
        "\n",
        "4. Experiment setups:\n",
        "\n",
        "Data about the position of balls, such as tennis balls, soccer balls, and many others, will be collected. Then, some data will be removed. This removed data will be both in situations where the ball is changing direction and tracjectory, and when the ball is continuing along a general path. Various interpolation methods will be used to recover the data, and then these results will be compared to the original data. The success of the experiment will be determined by the difference between the predicted and actual data.\n",
        "\n",
        "\n",
        "5. Expected results:\n",
        "\n",
        "The results of this study will be quite simple. I will explore different methodologies for predicting missing position data in sports. My goal is to cover several differnet methods of interpolation, and I will quantify the results by computing the accuracy with which I can predict the missing data. The success of failure of my hypothesis will be determined by whether or not the data can be accurately predicted using any type of interpolation.\n",
        "\n",
        "\n",
        "6. Team Members:\n",
        "\n",
        "Eddie Ormseth. I will be working alone, and so I will also be doing all of the work myself. GitHub will be used to hold all code, and Git will be used for version control.\n",
        "\n",
        "\n",
        "7. Tools Used:\n",
        "\n",
        "The primary language to be used will be Python because of the advent of so many Python data science tools.\n",
        "\n",
        "Many datasets will be explored depeneding on needs as the project moves forwards. The ones initially explored will be:\n",
        "\n",
        "    a. nikhilgrad/Tennis-Ball-Tracker\n",
        "    b. TrackNet Dataset\n",
        "    c. SoccerNet\n",
        "    d. NBA SportVU Dataset\n",
        "    e. Football Player Tracking Dataset\n",
        "\n",
        "The data will be both (x, y) positions on the screen, as well as (x, y, z) data about where the ball is in the physical field. Both methods will be evaluated over a range of interpolation types.\n",
        "\n",
        "While these data sets will be used and explored, the possibility of creating a synthetic dataset will also be conisdered. Many of these datasets have been used\n",
        " to create deep learning models that can predict the location of the ball based on the image. This functionality may also be used to create synthetic datasets depending on the needs of the project.\n"
      ],
      "metadata": {
        "id": "yzrTFwMwme3W"
      }
    }
  ]
}