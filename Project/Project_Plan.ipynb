{
  "nbformat": 4,
  "nbformat_minor": 0,
  "metadata": {
    "colab": {
      "provenance": [],
      "authorship_tag": "ABX9TyMTiI8yBLx0Z2SObX4tnIID",
      "include_colab_link": true
    },
    "kernelspec": {
      "name": "python3",
      "display_name": "Python 3"
    },
    "language_info": {
      "name": "python"
    }
  },
  "cells": [
    {
      "cell_type": "markdown",
      "metadata": {
        "id": "view-in-github",
        "colab_type": "text"
      },
      "source": [
        "<a href=\"https://colab.research.google.com/github/EddieOrmseth/MAT-421/blob/main/Project/Project_Plan.ipynb\" target=\"_parent\"><img src=\"https://colab.research.google.com/assets/colab-badge.svg\" alt=\"Open In Colab\"/></a>"
      ]
    },
    {
      "cell_type": "code",
      "execution_count": null,
      "metadata": {
        "id": "XKc6jvmhNsGv"
      },
      "outputs": [],
      "source": [
        "1. Introduction to the problem:\n",
        "\n",
        "\n",
        "2. Related work:\n",
        "\n",
        "\n",
        "3. Proposed methodology / models:\n",
        "\n",
        "\n",
        "4. Experiment setups:\n",
        "\n",
        "\n",
        "5. Expected results:\n",
        "\n"
      ]
    }
  ]
}