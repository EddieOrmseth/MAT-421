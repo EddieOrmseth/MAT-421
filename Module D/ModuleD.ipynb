{
  "nbformat": 4,
  "nbformat_minor": 0,
  "metadata": {
    "colab": {
      "provenance": [],
      "authorship_tag": "ABX9TyPguL2RkhsGfDDyI898HaqG",
      "include_colab_link": true
    },
    "kernelspec": {
      "name": "python3",
      "display_name": "Python 3"
    },
    "language_info": {
      "name": "python"
    }
  },
  "cells": [
    {
      "cell_type": "markdown",
      "metadata": {
        "id": "view-in-github",
        "colab_type": "text"
      },
      "source": [
        "<a href=\"https://colab.research.google.com/github/EddieOrmseth/MAT-421/blob/main/Module%20D/ModuleD.ipynb\" target=\"_parent\"><img src=\"https://colab.research.google.com/assets/colab-badge.svg\" alt=\"Open In Colab\"/></a>"
      ]
    },
    {
      "cell_type": "markdown",
      "source": [
        "Linear Algebra Concepts:\n",
        "\n",
        "Linear / Vector Space: a set of object (vetors) that has a certain set of properties.\n",
        "1. The operations of addition (+) is defined for any two vectors in the set. The operation of scalar multiplication is also defined for any vector and scalar combination.\n",
        "2. The operators of addition (+) and scalar multiplication (*) are closed in the set, meaning that if a,b are in V, then a + b is in V. And if c is a scalar, then c * a is in V.\n",
        "3. There must exist a unique zero vector z such that a + z = a, and c * z = z.\n",
        "4. Addition and multiplication must satisfy the Associative and Distributive properies.\n",
        "5. Finally, the vector space must have some form of inner product, and this inner product must be closed. If a, b are in V, then a * b is defined and in V.\n",
        "\n",
        "Orthogonality: We say that two vectors a, b in V are orthogonal if the inner product of a and b is the zero vector. When put in the context of linear algebra in Euclidean Space, this means that two vectors a, b have a 90 degree angle between them.\n",
        "\n",
        "Eigenvalues: Consider the system Ax = yx where A is a matrix, x is a vector, and y is a scalar. There is of course a trival solution to this system where x = 0, but that solution is not considered useful in almost every case. The solutions (values of x) are called eigenvectors, and are each associated with an eigenvalue (y) used to compute them.\n",
        "\n",
        "To compute y, one can use the following steps:\n",
        "1. Ax = yx\n",
        "2. Ax - yx = 0\n",
        "3. x(A - Iy) = 0\n",
        "4. det(A - Iy) = 0\n",
        "\n",
        "Eigen vectors are then computed by solving det(A - Iy) for a value of y, leading to a matrix where the row vectors are the eigenvectors."
      ],
      "metadata": {
        "id": "HXbHF8DQiXxb"
      }
    },
    {
      "cell_type": "code",
      "execution_count": 1,
      "metadata": {
        "colab": {
          "base_uri": "https://localhost:8080/"
        },
        "id": "mKahXlhxg4eb",
        "outputId": "47ff675a-9363-4ed3-879f-8438de710059"
      },
      "outputs": [
        {
          "output_type": "stream",
          "name": "stdout",
          "text": [
            "Original Vector: [1 0]\n",
            "Rotated 1 Vector: [0 1]\n",
            "Rotated 2 Vector: [ 0 -1]\n",
            "Inner Product: rotated_vector_1 X vector: 0\n",
            "Inner Product: rotated_vector_2 X vector: 0\n",
            "\n",
            "Original Vector: [2 1]\n",
            "Rotated 1 Vector: [-1  2]\n",
            "Rotated 2 Vector: [ 1 -2]\n",
            "Inner Product: rotated_vector_1 X vector: 0\n",
            "Inner Product: rotated_vector_2 X vector: 0\n",
            "\n",
            "Original Vector: [1 5]\n",
            "Rotated 1 Vector: [-5  1]\n",
            "Rotated 2 Vector: [ 5 -1]\n",
            "Inner Product: rotated_vector_1 X vector: 0\n",
            "Inner Product: rotated_vector_2 X vector: 0\n",
            "\n",
            "Original Vector: [-1  5]\n",
            "Rotated 1 Vector: [-5 -1]\n",
            "Rotated 2 Vector: [5 1]\n",
            "Inner Product: rotated_vector_1 X vector: 0\n",
            "Inner Product: rotated_vector_2 X vector: 0\n",
            "\n",
            "Original Vector: [ 4 -3]\n",
            "Rotated 1 Vector: [3 4]\n",
            "Rotated 2 Vector: [-3 -4]\n",
            "Inner Product: rotated_vector_1 X vector: 0\n",
            "Inner Product: rotated_vector_2 X vector: 0\n",
            "\n",
            "Original Matrix:\n",
            " [[4 2]\n",
            " [1 3]]\n",
            "Eigenvalues: [5. 2.]\n",
            "Eigenvectors:\n",
            " [[ 0.89442719 -0.70710678]\n",
            " [ 0.4472136   0.70710678]]\n",
            "\tOriginal Vector: [1 3]\n",
            "\tEigenvalue * Eigenvector: [4.47213595 2.23606798]\n",
            "\tMatrix * Eigenvector:\t  [4.47213595 2.23606798]\n",
            "\n",
            "\tOriginal Vector: [1 3]\n",
            "\tEigenvalue * Eigenvector: [-1.41421356  1.41421356]\n",
            "\tMatrix * Eigenvector:\t  [-1.41421356  1.41421356]\n",
            "\n",
            "Original Matrix:\n",
            " [[2 3]\n",
            " [1 1]]\n",
            "Eigenvalues: [ 3.30277564 -0.30277564]\n",
            "Eigenvectors:\n",
            " [[ 0.91724574 -0.79325185]\n",
            " [ 0.3983218   0.60889368]]\n",
            "\tOriginal Vector: [1 3]\n",
            "\tEigenvalue * Eigenvector: [3.02945688 1.31556754]\n",
            "\tMatrix * Eigenvector:\t  [3.02945688 1.31556754]\n",
            "\n",
            "\tOriginal Vector: [1 3]\n",
            "\tEigenvalue * Eigenvector: [ 0.24017733 -0.18435817]\n",
            "\tMatrix * Eigenvector:\t  [ 0.24017733 -0.18435817]\n",
            "\n",
            "Original Matrix:\n",
            " [[2 2]\n",
            " [1 5]]\n",
            "Eigenvalues: [1.43844719 5.56155281]\n",
            "Eigenvectors:\n",
            " [[-0.96276969 -0.48963374]\n",
            " [ 0.27032301 -0.87192821]]\n",
            "\tOriginal Vector: [1 3]\n",
            "\tEigenvalue * Eigenvector: [-1.38489335  0.38884538]\n",
            "\tMatrix * Eigenvector:\t  [-1.38489335  0.38884538]\n",
            "\n",
            "\tOriginal Vector: [1 3]\n",
            "\tEigenvalue * Eigenvector: [-2.7231239  -4.84927478]\n",
            "\tMatrix * Eigenvector:\t  [-2.7231239  -4.84927478]\n",
            "\n"
          ]
        }
      ],
      "source": [
        "import numpy as np\n",
        "\n",
        "\n",
        "if __name__ == '__main__':\n",
        "    # rotation matrices\n",
        "    rotation_matrix_1 = np.array([[0, -1], [1, 0]])\n",
        "    rotation_matrix_2 = np.array([[0, 1], [-1, 0]])\n",
        "\n",
        "    vector1 = np.array([1, 0])\n",
        "    vector2 = np.array([2, 1])\n",
        "    vector3 = np.array([1, 5])\n",
        "    vector4 = np.array([-1, 5])\n",
        "    vector5 = np.array([4, -3])\n",
        "    vectors = [vector1, vector2, vector3, vector4, vector5]\n",
        "\n",
        "    for vector in vectors:\n",
        "        rotated_vector_1 = rotation_matrix_1 @ vector\n",
        "        rotated_vector_2 = rotation_matrix_2 @ vector\n",
        "\n",
        "        print(\"Original Vector:\", vector)\n",
        "        print(\"Rotated 1 Vector:\", rotated_vector_1)\n",
        "        print(\"Rotated 2 Vector:\", rotated_vector_2)\n",
        "        print(\"Inner Product: rotated_vector_1 X vector:\", + rotated_vector_1 @ vector)\n",
        "        print(\"Inner Product: rotated_vector_2 X vector:\", + rotated_vector_2 @ vector)\n",
        "        print()\n",
        "\n",
        "\n",
        "    vector = np.array([1, 3])\n",
        "    matrix1 = np.array([[4, 2],\n",
        "                        [1, 3]])\n",
        "    matrix2 = np.array([[2, 3],\n",
        "                         [1, 1]])\n",
        "    matrix3 = np.array([[2, 2],\n",
        "                        [1, 5]])\n",
        "    matrices = [matrix1, matrix2, matrix3]\n",
        "\n",
        "    for matrix in matrices:\n",
        "        eigenvalues, eigenvectors = np.linalg.eig(matrix)\n",
        "\n",
        "        print(\"Original Matrix:\\n\", matrix)\n",
        "        print(\"Eigenvalues:\", eigenvalues)\n",
        "        print(\"Eigenvectors:\\n\", eigenvectors)\n",
        "\n",
        "        for i in range(len(eigenvalues)):\n",
        "            eigenvalue = eigenvalues[i]\n",
        "            eigenvector = eigenvectors[:, i]\n",
        "\n",
        "            print(\"\\tOriginal Vector:\", vector)\n",
        "            print(\"\\tEigenvalue * Eigenvector:\", eigenvalue * eigenvector)\n",
        "            print(\"\\tMatrix * Eigenvector:\\t \", matrix @ eigenvector)\n",
        "            print()\n"
      ]
    },
    {
      "cell_type": "markdown",
      "source": [
        "Linear Regression:"
      ],
      "metadata": {
        "id": "QAyqpmfwiYFQ"
      }
    },
    {
      "cell_type": "code",
      "source": [],
      "metadata": {
        "id": "WPxA_LNHiYXb"
      },
      "execution_count": null,
      "outputs": []
    }
  ]
}